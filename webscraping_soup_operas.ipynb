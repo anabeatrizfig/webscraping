{
 "cells": [
  {
   "cell_type": "markdown",
   "metadata": {},
   "source": [
    "# Web scraping\n",
    "\n",
    "\n",
    "### Code to create a dataset with Brazilian soup operas:\n",
    "- website: http://teledramaturgia.com.br/\n",
    "- features: TV channel, Soup opera name, date of the begining and end, director\n",
    "- aim: increase data to analyse TV audience and to indicate better programs to include TV advertising"
   ]
  },
  {
   "cell_type": "code",
   "execution_count": 2,
   "metadata": {},
   "outputs": [
    {
     "name": "stdout",
     "output_type": "stream",
     "text": [
      "Collecting requests\n",
      "  Downloading https://files.pythonhosted.org/packages/51/bd/23c926cd341ea6b7dd0b2a00aba99ae0f828be89d72b2190f27c11d4b7fb/requests-2.22.0-py2.py3-none-any.whl (57kB)\n",
      "Collecting chardet<3.1.0,>=3.0.2 (from requests)\n",
      "  Downloading https://files.pythonhosted.org/packages/bc/a9/01ffebfb562e4274b6487b4bb1ddec7ca55ec7510b22e4c51f14098443b8/chardet-3.0.4-py2.py3-none-any.whl (133kB)\n",
      "Collecting idna<2.9,>=2.5 (from requests)\n",
      "  Downloading https://files.pythonhosted.org/packages/14/2c/cd551d81dbe15200be1cf41cd03869a46fe7226e7450af7a6545bfc474c9/idna-2.8-py2.py3-none-any.whl (58kB)\n",
      "Requirement already satisfied: certifi>=2017.4.17 in c:\\users\\ana.oliveira\\appdata\\local\\continuum\\anaconda3\\envs\\audit\\lib\\site-packages (from requests) (2019.6.16)\n",
      "Collecting urllib3!=1.25.0,!=1.25.1,<1.26,>=1.21.1 (from requests)\n",
      "  Downloading https://files.pythonhosted.org/packages/e6/60/247f23a7121ae632d62811ba7f273d0e58972d75e58a94d329d51550a47d/urllib3-1.25.3-py2.py3-none-any.whl (150kB)\n",
      "Installing collected packages: chardet, idna, urllib3, requests\n",
      "Successfully installed chardet-3.0.4 idna-2.8 requests-2.22.0 urllib3-1.25.3\n"
     ]
    }
   ],
   "source": [
    "!pip install requests"
   ]
  },
  {
   "cell_type": "code",
   "execution_count": 2,
   "metadata": {},
   "outputs": [
    {
     "name": "stdout",
     "output_type": "stream",
     "text": [
      "Collecting bs4\n",
      "Collecting beautifulsoup4 (from bs4)\n",
      "  Using cached https://files.pythonhosted.org/packages/1a/b7/34eec2fe5a49718944e215fde81288eec1fa04638aa3fb57c1c6cd0f98c3/beautifulsoup4-4.8.0-py3-none-any.whl\n",
      "Collecting soupsieve>=1.2 (from beautifulsoup4->bs4)\n",
      "  Using cached https://files.pythonhosted.org/packages/0b/44/0474f2207fdd601bb25787671c81076333d2c80e6f97e92790f8887cf682/soupsieve-1.9.3-py2.py3-none-any.whl\n",
      "Installing collected packages: soupsieve, beautifulsoup4, bs4\n",
      "Successfully installed beautifulsoup4-4.8.0 bs4-0.0.1 soupsieve-1.9.3\n"
     ]
    }
   ],
   "source": [
    "!pip install bs4"
   ]
  },
  {
   "cell_type": "code",
   "execution_count": 7,
   "metadata": {},
   "outputs": [
    {
     "name": "stdout",
     "output_type": "stream",
     "text": [
      "Collecting unidecode\n",
      "  Using cached https://files.pythonhosted.org/packages/d0/42/d9edfed04228bacea2d824904cae367ee9efd05e6cce7ceaaedd0b0ad964/Unidecode-1.1.1-py2.py3-none-any.whl\n",
      "Installing collected packages: unidecode\n",
      "Successfully installed unidecode-1.1.1\n"
     ]
    }
   ],
   "source": [
    "!pip install unidecode"
   ]
  },
  {
   "cell_type": "code",
   "execution_count": 1,
   "metadata": {},
   "outputs": [],
   "source": [
    "import pandas as pd\n",
    "import requests\n",
    "from bs4 import BeautifulSoup"
   ]
  },
  {
   "cell_type": "code",
   "execution_count": 2,
   "metadata": {},
   "outputs": [],
   "source": [
    "import re\n",
    "from unidecode import unidecode"
   ]
  },
  {
   "cell_type": "code",
   "execution_count": 2,
   "metadata": {},
   "outputs": [
    {
     "name": "stdout",
     "output_type": "stream",
     "text": [
      "deus salve o rei\n",
      "orgulho e paixão\n",
      "segundo sol\n",
      "o tempo não para\n",
      "espelho da vida\n",
      "o sétimo guardião\n",
      "verão 90\n",
      "órfãos da terra\n"
     ]
    }
   ],
   "source": [
    "# open file with the names of soup operas - this will indicates the website to collect info\n",
    "todas = open('titulos_2018a2019_globo.txt', 'r', encoding='UTF-8')\n",
    "print(todas.read())"
   ]
  },
  {
   "cell_type": "code",
   "execution_count": 11,
   "metadata": {},
   "outputs": [],
   "source": [
    "# include all names into a list\n",
    "with open('titulos_2018a2019_globo.txt', 'r', encoding='UTF-8') as f:\n",
    "    lista = f.readlines()\n",
    "    lista = [x.strip() for x in lista] "
   ]
  },
  {
   "cell_type": "code",
   "execution_count": 12,
   "metadata": {
    "scrolled": false
   },
   "outputs": [
    {
     "data": {
      "text/plain": [
       "['deus salve o rei',\n",
       " 'orgulho e paixão',\n",
       " 'segundo sol',\n",
       " 'o tempo não para',\n",
       " 'espelho da vida',\n",
       " 'o sétimo guardião',\n",
       " 'verão 90',\n",
       " 'órfãos da terra']"
      ]
     },
     "execution_count": 12,
     "metadata": {},
     "output_type": "execute_result"
    }
   ],
   "source": [
    "lista"
   ]
  },
  {
   "cell_type": "code",
   "execution_count": 7,
   "metadata": {},
   "outputs": [
    {
     "data": {
      "text/plain": [
       "'a-favorita'"
      ]
     },
     "execution_count": 7,
     "metadata": {},
     "output_type": "execute_result"
    }
   ],
   "source": [
    "teste = nomes[0].replace(' ', '-')\n",
    "teste"
   ]
  },
  {
   "cell_type": "code",
   "execution_count": 263,
   "metadata": {},
   "outputs": [
    {
     "data": {
      "text/plain": [
       "'agora-e-que-sao-elas'"
      ]
     },
     "execution_count": 263,
     "metadata": {},
     "output_type": "execute_result"
    }
   ],
   "source": [
    "unidecode(teste)"
   ]
  },
  {
   "cell_type": "code",
   "execution_count": 15,
   "metadata": {},
   "outputs": [],
   "source": [
    "# include all corrected names into a list\n",
    "novelas=[]\n",
    "\n",
    "for i in nomes:\n",
    "    cor1 = i.replace(' ', '-')\n",
    "    cor2 = cor1.replace('(', '')\n",
    "    cor3 = cor2.replace(')', '')\n",
    "    cor4 = cor3.replace('!', '')\n",
    "    cor5 = cor4.replace('...', '')\n",
    "    cor6 = unidecode(cor5)\n",
    "    novelas.append(cor6)"
   ]
  },
  {
   "cell_type": "code",
   "execution_count": 16,
   "metadata": {},
   "outputs": [
    {
     "name": "stdout",
     "output_type": "stream",
     "text": [
      "8\n",
      "['deus-salve-o-rei', 'orgulho-e-paixao', 'segundo-sol', 'o-tempo-nao-para', 'espelho-da-vida', 'o-setimo-guardiao', 'verao-90', 'orfaos-da-terra']\n"
     ]
    }
   ],
   "source": [
    "#lista com os nomes de todas as novelas corrigidas para entrar no link da página\n",
    "print(len(novelas))\n",
    "print(novelas)"
   ]
  },
  {
   "cell_type": "markdown",
   "metadata": {},
   "source": [
    "## First Test"
   ]
  },
  {
   "cell_type": "code",
   "execution_count": 17,
   "metadata": {},
   "outputs": [
    {
     "name": "stdout",
     "output_type": "stream",
     "text": [
      "Requisição bem sucedida!\n",
      "Requisição bem sucedida!\n",
      "Requisição bem sucedida!\n",
      "Requisição bem sucedida!\n",
      "Requisição bem sucedida!\n",
      "Requisição bem sucedida!\n",
      "Requisição bem sucedida!\n",
      "Requisição bem sucedida!\n"
     ]
    }
   ],
   "source": [
    "#creating the lists to store the data for each soap opera \n",
    "titulo = []\n",
    "horario = []\n",
    "data_inicio = []\n",
    "data_fim = []\n",
    "autor = []\n",
    "\n",
    "for i in novelas:\n",
    "    #Request to enter the site \n",
    "    req = requests.get('http://teledramaturgia.com.br/{}/'.format(i))\n",
    "    #testing whether the request was successful \n",
    "    if req.status_code == 200:\n",
    "        print('Requisição bem sucedida!')\n",
    "        content = req.content\n",
    "    \n",
    "    soup = BeautifulSoup(content, 'html.parser')\n",
    "    \n",
    "    #Title of the soup opera\n",
    "    novela = str(soup.find_all('title'))\n",
    "    novela_1 = re.findall('[-](.+?)</title>', novela)[0].lstrip()\n",
    "    titulo.append(novela_1)\n",
    "    \n",
    "    #TV channel and soup opera schedule\n",
    "    texto = str(soup.find_all('p'))\n",
    "    horario_ = re.findall(', <p>.+([A-Z].+?[0-9]{2}h)<br/>', texto)\n",
    "    horario.append(horario_[0])\n",
    "    \n",
    "    #Start and end date \n",
    "    data_ = re.findall('[de ]([0-9].+?[0-9]{4})<.+', texto)\n",
    "    if len(data_) == 1:\n",
    "        data_inicio.append(data_[0])\n",
    "    else:\n",
    "        data_inicio.append(data_[0] + ' a ' + data_[1])\n",
    "        \n",
    "#     data_inicio_ = re.findall('[\\nde ]([0-9].+[0-9]{4})<br/>', texto)[0]\n",
    "#     data_inicio.append(data_inicio_)\n",
    "#     data_fim_ = re.findall('[\\nde ]([0-9].+[0-9]{4})<br/>', texto)[1]\n",
    "#     data_fim.append(data_fim_)\n",
    "        \n",
    "    #Director\n",
    "    autor_ = re.findall('<p>novela de .*?([A-Z].+?)<', texto)[0]\n",
    "    autor.append(autor_)\n",
    "       \n",
    "        "
   ]
  },
  {
   "cell_type": "code",
   "execution_count": 43,
   "metadata": {},
   "outputs": [
    {
     "data": {
      "text/plain": [
       "'[<p>Maria da Paz (Juliana Paes) vem de uma família de justiceiros profissionais, os Ramirez, da cidade de Rio Vermelho, Espírito Santo. Desde pequena, ela mantém o hábito de ficar na cozinha ao lado de sua avó, Dulce (Fernanda Montenegro), com quem aprendeu a fazer bolos. Essa rotina a seduz mais do que as atividades impostas pelo pai, Ademir (Genézio de Barros), que quer transformá-la em uma justiceira.</p>, <p>Na década de 1990, Maria conheceu e se apaixonou por Amadeu (Marcos Palmeira), advogado formado em Vitória, porém membro do clã rival nos negócios dos Ramirez, os Matheus. Quando descobre que vem de famílias rivais, o casal, para viver o romance, sugere um pacto de paz e consegue marcar o casamento. Porém, no altar, Amadeu leva um tiro e, após a tragédia, os Matheus prometem vingança contra os Ramirez.</p>, <p>As primeiras vítimas são Fabiana (Maria Clara Baldon) e Virgínia (Duda Batista), sobrinhas de Maria, filhas de sua irmã Zenaide (Maeve Jinkings). Vicente (Álamo Facó), irmão de Amadeu, fica encarregado de dar fim nas meninas, mas só consegue capturar Fabiana e, sem coragem, a deixa em um convento. Ao saber do sumiço de Fabiana, Zenaide e Virgínia fogem para Vitória e uma nova tragédia acontece: a menina se separa da mãe e se perde.</p>, <p>Jurada de morte, Maria foge para São Paulo e é acolhida na casa de Marlene (Suely Franco), começando uma nova vida com a promessa de reencontrar as sobrinhas. Com o passar do tempo, recebe a notícia da morte de Amadeu, sem saber que a mentira é um acordo entre sua mãe Evelina (Nívea Maria) e a mãe dele, Nilda (Jussara Freire), que decidem dizer para ambos que os dois estão mortos.</p>, <p>Se não bastasse o sofrimento pela “morte” do amado, Maria se vê grávida e sem emprego. Como forma de sustento, começa a vender bolos que ela mesma faz. O negócio dá tão certo que, vinte anos depois, Maria tornou-se uma bem-sucedida dona de uma cadeia de confeitarias. Vive ao lado da filha, Josiane (Agatha Moreira), que cultiva desprezo pela mãe, critica seu comportamento e aparência e odeia o próprio nome.</p>, <p>Jô – como Josiane prefere ser chamada – precisa da mãe para realizar o sonho de se tornar uma <em>digital influencer</em> e, para conquistar a projeção social que deseja, articula um plano com Régis (Reynaldo Gianecchini), um <em>playboy</em> de família tradicional. A jovem o apresenta para a mãe e arma o casamento entre eles para tomar o dinheiro dela. Maria sequer imagina que a união pode colocar em risco seu patrimônio conquistado com tanta luta.</p>, <p>Jô ainda faz de tudo para se aproximar da famosa Vivi Guedes, filha adotiva do casal Otávio (José de Abreu) e Beatriz (Natália do Vale) que se tornou uma conhecida <em>digital influencer</em>. Jô não imagina que ela é sua prima desaparecida Virgínia. Já Fabiana, descobre o paradeiro da irmã ao vê-la na televisão com um amuleto dado de presente pela avó. Ela muda-se então para São Paulo a fim de recuperar a vida que não teve.</p>, <p>A princípio, Fabiana não revela o parentesco com Virgínia, afinal, tem inveja da irmã bem-sucedida. Quem também se muda para São Paulo é Amadeu, que, após se recuperar do tiro que levou com a ajuda da fisioterapeuta Gilda (Heloísa Jorge), casou-se com ela certo de que sua Maria morreu. Na metrópole, ele pretende exercer seu ofício de advogado. E é lá que o casal protagonista se reencontra e reacende o amor do passado.</p>, <p>Globo – 21h<br/>\\nestreia: 20 de maio de 2019</p>, <p>novela de <a href=\"http://www.teledramaturgia.com.br/walcyr-carrasco/\">Walcyr Carrasco</a><br/>\\nescrita com <a href=\"http://www.teledramaturgia.com.br/nelson-nadotti/\">Nelson Nadotti</a>, Márcio Haiduck e Vinicius Vianna<br/>\\ndireção de André Barros, Bernardo Sá, Bruno Martins Moraes, Caetano Caruso e Vicente Kubrusly<br/>\\ndireção geral de Luciano Sabino<br/>\\ndireção artística de Amora Mautner</p>, <p>Novela anterior no horário<br/>\\n<a href=\"http://www.teledramaturgia.com.br/o-setimo-guardiao/\">O Sétimo Guardião</a></p>, <p>JULIANA PAES – Maria da Paz Ramirez<br/>MARCOS PALMEIRA – Amadeu Matheus<br/>AGATHA MOREIRA – Jô (Josiane)<br/>REYNALDO GIANECCHINI – Régis<br/>PAOLLA OLIVEIRA – Vivi Guedes (Virgínia)<br/>SÉRGIO GUIZÉ – Chiclete (Ricardo)<br/>NATHALIA DILL – Fabiana<br/>CAIO CASTRO – Rock<br/>MALVINO SALVADOR – Agno<br/>MARCO NANINI – Eusébio / Juninho<br/>ARY FONTOURA – Antero<br/>SUELY FRANCO – Marlene<br/>LEE TAYLOR – Camilo<br/>MÔNICA IOZZI – Kim<br/>ANDERSON DI RIZZI – Márcio<br/>NÍVEA MARIA – Evelina<br/>DEBORAH EVELYN – Lyris<br/>NATHALIA TIMBERG – Gladys<br/>JOSÉ DE ABREU – Otávio<br/>NATÁLIA DO VALLE – Beatriz<br/>ROSAMARIA MURTINHO – Linda<br/>ROSI CAMPOS – Doroteia<br/>BETTY FARIA – Cornélia<br/>TONICO PEREIRA – Chico<br/>HELOÍSA JORGE – Gilda<br/>RAINER CADETE – Téo<br/>GLAMOUR GARCIA – Britney (Rarisson)<br/>PEDRO CARVALHO – Abel<br/>LUCY RAMOS – Silvia<br/>OSVALDO MIL – Cosme<br/>ROSANE GOFMAN – Ellen<br/>BRUNO BEVAN – Zé Hélio<br/>CAROL GARCIA – Sabrina<br/>RAFAEL QUEIROZ – Rael<br/>CÉSAR FERRARIO – Adão<br/>GUILHERME LEICAM – Leandro (Mão Santa)<br/>MEL MAIA – Cássia<br/>JOÃO GABRIEL D´ALELUIA – Carlito<br/>SAMIRA LOCHTER – Sueli<br/>LUCIANA FERNANDES – Jenifer<br/>DUIO BOTTA – Jardel<br/><b>e</b><br/>ÁLAMO FACÓ – Vicente (irmão de Amadeu, filho de Miroel e Nilda)<br/>ALICE JARDIM – Sabrina (criança, filha de Eusébio e Dorotéia)<br/>ALEXANDRE MORENNO – Moacir (detetive pago por Lyris para investigar Agno)<br/>ALEX RECH – Agenor (corretor que se recusa a atender Martino Vila Nova por achar que ele é pobre)<br/>ALLEXANDRE COLMAN – Rock (criança, filho de Eusébio e Dorotéia)<br/>ANA BARROSO – Josiane (mulher de Aírton, madrinha de Maria da Paz, a ajuda a fugir para São Paulo)<br/>ANDRÉ SALVADOR – delegado que interroga Eusébio e Cornélia, presos em um supermercado roubando<br/>ÁUREA MARANHÃO – Ticiana (irmã de Amadeu, filha de Miroel e Nilda)<br/>BERNARDO AMIL – Júnior (criança, filho adotivo de Adão e Berenice)<br/>BERNARDO DANTAS RIBAS – Arthur (filho de Régis e Roma)<br/>BERTA LORAN – Dinorá (mãe de Juninho, irmão bastardo de Eusébio)<br/>BETTO MARQUE – Tonho (funcionário da fábrica de Maria da Paz)<br/>BILLY BLANCO JR. – padre no quase casamento de Vivi e Camilo<br/>BRENO GUIMARÃES – Coruja (treinador de Paixão)<br/>BRUNO BARBOZA – Eurico (funcionário da fábrica de Maria da Paz, leva um tiro quando Chiclete tenta matar Kim)<br/>CADU LIBONATTI – Merlim (colega de Cássia no novo colégio)<br/>CAMILA COUTINHO como ela mesma, no programa “Encontro” de Fátima Bernardes<br/>CASSIANO BARRETO – Wesley (primo de Eurico que o substitui na loja de Maria de Paz, após ele levar um tiro)<br/>CATARINA DE CARVALHO – Alba (colega de Cássia no novo colégio)<br/>CHAN SUAN – Naomi (secretária na Habitex, construtora de Agno e Otávio)<br/>CYNTHIA SENEK – Edilene (filha de Cosme, empregada na casa de Otávio, teve um caso com ele, morre no início)<br/>DANIELA GALLI – Stephany (decoradora amiga de Régis que Jô convence Maria da Paz a contratar)<br/>DANI GUIMARÃES – Lígia (professora na academia de musculação)<br/>DEIWIS JAMAICA – colega de Camilo na delegacia, vê fotos sensuais de Vivi e faz comentários<br/>DIONÍSIO NETO – Hélcio (primo de Maria da Paz, marido de Zenaide, pai de Virgínia e Fabiana)<br/>DUDA BATISTA – Virgínia (criança, filha de Zenaide e Hélcio, sobrinha de Maria da Paz)<br/>DUDA NAGLE – Paixão (pugilista que luta com Rock)<br/>DUDU BERTHOLINI como ele mesmo, no programa “Encontro” de Fátima Bernardes<br/>ELIANE NARDUCHI – encomenda a Maria da Paz um bolo vermelho<br/>EMÍLIO MOREIRA – Aírton (marido de Josiane, padrinho de Maria da Paz, a ajuda a fugir para São Paulo)<br/>FÁTIMA BERNARDES como ela mesma, em seu programa “Encontro”, que teve a participação de Vivi Guedes<br/>FELIPE TITO – Abdias (contratado por Agno para treinar Rock)<br/>FERNANDA MONTENEGRO – Dulce (matriarca dos Ramirez, avó de Maria da Paz)<br/>FERNANDO EIRAS – padre, ajuda Maria da Paz a fugir para São Paulo, recomendando à prima Marlene que a acolha<br/>FERNANDO ZILI – André (professor na academia de musculação)<br/>FLÁVIO BISNETO – Zé Hélio (criança, filho de Eusébio e Dorotéia)<br/>FLÁVIO SIQUEIRA – Jacques (estilista que faz o vestido de noiva de Vivi, quado ela vai se casar com Camilo)<br/>GENÉZIO DE BARROS – Ademir Ramirez (pai de Maria da Paz, filho de Dulce, marido de Evelina, morre no início)<br/>GLÁUCIO GOMES – Nicolas (economista, assistente da construtora Habitex)<br/>GRETCHEN – Gina (amante de Eusébio que ele leva para sua casa)<br/>GUSTAVO PIASKOSKI – Murilo (primo de Amadeu)<br/>ISADORA FERRITE – presa na cela ao lado da que Maria da Paz é colocada quando dá um tiro em Régis<br/>ISMAEL CANEPPELE – Murilo (mais velho, primo de Amadeu)<br/>JARDEL CAMELO – Beto (funcionário da fábrica de Maria da Paz)<br/>JOÃO BOURBOUNAIS – padre que ajuda Fabiana quando ela chega a São Paulo<br/>JOSÉ KARINI – delegado em Vitória para quem Ademir denuncia o desaparecimento de Vivi e a morte de Zenaide<br/>JÚLIA LUND – Roma (ex-namorada de Régis com quem ele tem um filho)<br/>JUSSARA FREIRE – Nilda (mãe de Amadeu, mulher de Miroel)<br/>KADU GARCIA – Ubiratan (vende seguidores para Josiane)<br/>KAINAN FERRAZ – Lucas (namorado do mordomo Jardel suspeito da morte dele)<br/>KEFF OLIVEIRA – colega de Camilo na delegacia, vê fotos sensuais de Vivi e faz comentários<br/>LUCAS LUCCO como ele mesmo, tirando fotos com Vivi Guedes para um falso affair<br/>LÚCIO FERNANDES – médico atende Régis após ele ser baleado por Maria da Paz<br/>LUIZ CARLOS VASCONCELOS – Miroel Matheus (pai de Amadeu, marido de Nilda)<br/>LUIZ EDUARDO TOLEDO – Rael (criança, filho de Ticiana, sobrinho de Amadeu)<br/>LUIZ FELIPE MELLO – Ricardo (criança, agregado dos Ramirez, criado como sobrinho de Maria da Paz)<br/>LUIZ LOBO – proprietário da casa comprada por Lyris<br/>MAEVE JENKINGS – Zenaide (irmã de Maria da Paz, mulher de Hélcio, mãe de Virgínia e Fabiana)<br/>MANU FERNANDES – Zenaide (criança, irmã de Maria da Paz)<br/>MARCELO BORGHI – funcionário que recebe Maria da Paz e Amadeu quando eles vão ao cassino frequentado por Régis<br/>MÁRCIO RICCIARD – delegado, preocupa-se com Camilo quando ele se aborrece com comentários do colegas sobre Vivi<br/>MARCO MARCONDES – cliente que avaliza o álibi de Lucas na hora da morte de Jardel<br/>MARCUS DIOLI – médico de Nilda em seus momentos finais<br/>MARIA CLARA BALDON – Fabiana (criança, filha de Zenaide e Hélcio, sobrinha de Maria da Paz)<br/>MARIA SILVIA RADONILLE – Berenice (mulher de Adão, mãe adotiva de Júnior)<br/>MARIANO JÚNIOR – Sávio (garçom da pizzaria frequentada pelos personagens)<br/>MIRELLA SABARENSE – Maria da Paz (criança)<br/>OSCAR MAGRINI – Honorato (marido de Gina)<br/>PATRÍCIA PALHARES – freira que acolhe a menina Fabiana no convento<br/>RAUL LABANCA – compra jóias de Régis<br/>REGINA SAMPAIO – madre que acolhe a menina Fabiana no convento<br/>ROBERTO LOBO – vende sua loja de vinhos importados para Régis<br/>SILVIO MATTOS – Martino Vila Nova (homem de aparência simples, mas rico, compra uma cobertura com Gilda)<br/>THÉO ALMEIDA – Rarisson (criança, filho de Eusébio e Dorotéia)<br/>THIAGO TOMÉ – Adriano (gerente da academia de musculação)<br/>VANDERSON PETÃO – policial na delegacia de Camilo, quando Maria da Paz depõe após o atentado que sofreu<br/>VICTOR AGUIAR – Hélcio (criança, primo de Maria da Paz)<br/>WAGNER BRANDI – joga com Régis no cassino<br/>Elizabeth Vila Nova (mulher de Martino)<br/>Françoise (chef contratada para trabalhar na mansão de Maria da Paz)<br/>Maura (amiga de Gilda a quem ela pergunta sobre os sintomas de sua doença, para enganar Amadeu)<br/>Mesquita (agiota que empresta dinheiro a Régis)</p>, <p></p>, <p>\\nPartiu das artes plásticas, da fotografia e do cinema a inspiração para a diretora artística Amora Mautner e as equipes de direção de arte e de cenografia desenvolverem a estética de <b>A Dona do Pedaço</b>.<br/><i>“Fomos para uma estética mais pop no sentido de ter brilho, cor e alegria. A forma que vem, desde a fotografia, paleta de cores até as texturas, a volumetria, eu comecei a pensar a partir do tom e da dramaturgia que tem ali. Como a história é de esperança, felicidade, otimismo, luta (…), traduzimos isso em imagem com uma estética mais épica, realista em alguns momentos. (…) Minhas referências foram os filmes de melodrama. Tem um diretor que se destaca (…) o Douglas Sirk”</i>, disse Amora na época do lançamento da novela.<br/><i>“Os Irmãos Coen estão na junção das estampas e nas questões geométricas e florais. Assim como o (David) Lynch na intensidade de cores, nos enquadramentos dos carros e na maneira de ver as estradas. Tem muita coisa que é inspirada nas fontes de onde fomos bebendo, além de juntar com a nossa imaginação”</i>, explicou o diretor de arte Valdy Lopes.</p>, <p>A novela se inicia com um prólogo, na década de 1970. Ainda no primeiro capítulo, uma passagem de tempo de cerca de 20 anos situa a trama na primeira fase. No início da segunda semana da novela, outros 20 anos se passam, e a novela chega a 2019.<br/><i>“Temos fases distintas e o desafio de diferenciá-las. Optamos por marcar, por exemplo, pelos carros, que são de época, assim como alguns utensílios de cozinha. Mas sem levantar uma bandeira tão datada de ‘estamos nos anos 1970, 1990 e nos 2000 atuais’. É uma passagem sutil. Mas as paletas vermelha e azul, dos Ramirez e dos Matheus, respectivamente, vão passar pela novela inteira”</i>, contou Valdy.</p>, <p>A dualidade dos clãs protagonistas pode ser percebida por meio de marcações que envolvem antagonismos como quente x frio, estampado x liso.<br/><i>“É bem sutil. Os Matheus usam jeans escuro, marrom escuro e azul e os Ramirez, tons mais terrosos e vermelhos. Por isso, a casa deles tem o telhado vermelho, assim como as janelas são marcadas com a mesma cor. (…) E uma coisa que unifica tudo isso é a paisagem dourada que a gente criou”</i>, comentou Valdy.</p>, <p>As gravações começaram em locações no Rio Grande do Sul, nas cidades de Jaguarão, Nova Esperança do Sul e São Gabriel, onde a equipe e o elenco passaram cerca de 30 dias. Lá foram gravadas as principais cenas dos sítios dos Ramirez e dos Matheus, alguns conflitos entre as famílias, os primeiros encontros de Maria da Paz (Juliana Paes) e Amadeu (Marcos Palmeira) e parte do casamento. No Rio Grande do Sul, a equipe concentrou esforços em três universos: as duas fazendas das famílias e a igreja. A opção de gravar no Sul foi feita por apresentar um cenário sem relevo, um horizonte linear e céu absoluto para contar a história de duas famílias que vivem isoladas, na cidade fictícia de Rio Vermelho.</p>, <p>Ainda nas locações do Sul, incontáveis quilômetros quadrados do <i>set</i> foram cobertos de feno para imprimir uma paisagem árida. Esses fenos também foram trazidos para o Rio de Janeiro por causa da continuidade das cenas nos estúdios.<br/><i>“Recorremos aos fenos porque o verde para a gente não era o ideal. E o cenário ganhou também uma enorme e frondosa árvore cenográfica, produzida especialmente para novela, em frente à casa dos Ramirez. Essa árvore é um ícone dentro da trama”</i>, disse Valdy.</p>, <p>A decoração das casas das famílias também recebeu um tratamento especial das equipes de direção de arte e de cenografia. Para ganhar um aspecto de envelhecidas, no caso da primeira fase, elas foram revestidas internamente com papel de parede. Foram colocadas luzes fluorescentes tanto dentro quanto fora, nas fachadas das residências.<br/>Na segunda fase, em São Paulo, a novela manteve uma estética <i>pop</i> por meio de intervenções pontuais em locações-chave.<br/><i>“O apartamento da Maria da Paz, em São Paulo, tem um vermelho muito presente. A encomenda é que a gente faça um melodrama pop, por isso também decidimos trabalhar com muita estampa e alguns exageros”</i>, afirmou a cenógrafa Anne Bourgeois.</p>, <p>A primeira casa que Maria da Paz adquiriu com o dinheiro de seu trabalho entrega muito de sua personalidade. Já a segunda residência, para onde ela se mudou por influência de Régis (Reynaldo Gianecchini) e Josiane (Agatha Moreira), é um verdadeiro palacete, com o qual não se identifica.<br/><i>“A primeira casa é exuberante como ela. É um apartamento amplo, com uma foto dela imensa na parede, peças de decoração de animais, detalhes em dourado. Não é um estilo kitsch, é over mesmo. Mas tem a cara dela, foi feita de acordo com o gosto dela, são as coisas que ela comprou”</i>, explicou Anne Bourgeois, para, em seguida, conceituar a outra morada da protagonista: <i>“A mansão é decorada por um arquiteto. E, ao chegar, Maria não sabe se relacionar com aquilo tudo. Fica catatônica com o sofá caríssimo. Não entende aquele minimalismo, sequer sabe usar as louças e os acessórios do banheiro.”</i></p>, <p>Duas cidades cenográficas foram erguidas nos Estúdios da Globo reproduzindo os tradicionais bairros paulistanos do Bixiga e dos Jardins. Por lá, ficam as fachadas das casas de Antero (Ary Fontoura), Marlene (Suely Franco) e Dorotéia (Rosi Campos), além de <i>shopping center</i>, academia, restaurantes e da fábrica de bolos. Dentro dela, no mezanino, fica o escritório de Maria da Paz, com uma visão geral de todo o processo de produção de seus bolos. São 4600m² só na parte do Bixiga e mais 3800 m² nos Jardins.</p>, <p>Assim como na cenografia e na direção de arte, referências do cinema também foram usadas pelas equipes de caracterização e de figurino. Uma atmosfera que mistura referências dos Irmãos Coen, Quentin Tarantino e Wes Anderson habita a novela em suas diferentes etapas.<br/><i>“A Dulce é descendente de ciganos espanhóis, que vieram de Granada, então, no prólogo, ela usa uns acessórios meio grandes, está com um colo mais aparente (…) A paleta de cor é toda nesses tons dos laranjas, avermelhados, vinhos”</i>, comentou a figurinista Claudia Kopke.</p>, <p>A equipe também trabalhou a evolução do figurino com a passagem do tempo. A partir do momento em que toma as rédeas da própria vida em São Paulo, a referência para Maria da Paz tem muito das musas latinas, como Eva Mendes e Penélope Cruz, até chegar nas divas italianas Sofia Loren e Mônica Belucci.<br/><i>“A inspiração é nos anos 1950, pós-guerra. A mulher que fica sozinha por anos, com o marido na guerra. É uma mulher que quer parecer bonita e sensual e, ao mesmo tempo, tem o seu quê maternal, cuida da família, deixa os filhos prontos para receber o marido que está voltando. E ela tem muito essa relação com a filha Josiane (Agatha Moreira), com a casa. Faz bolo, dá comida, alimenta as pessoas. É um pouco esse imaginário”</i>, definiu a figurinista Sabrina Moreira. Quando chega a 2019, entra no figurino da protagonista o <i>pink</i>, que também é quente.</p>, <p>Em contraponto está o figurino dos Matheus. Por ser, dentro da história, a família que mata mais, sem propósito, seus integrantes vão se vestir com tons mais frios, lisos e com pouca estampa. E Amadeu começa a trama com uma leve pegada sertaneja, que é deixada para trás ao longo da novela.<br/><i>“O Amadeu tem uma pegada meio ‘Marlboro Man’, galãzão, por quem a Maria da Paz deve suspirar. Régis (Reynaldo Gianecchini) é meio um oposto, nesse sentido. Ele é um mauricinho-gato, com uma referência mais italiana, o cara que levaria ela para comer bem, conhecer o melhor da noite paulistana. E o outro mexe com os instintos dela”</i>, pontuou Sabrina.</p>, <p>Outro <i>look</i> de destaque é o da <i>it girl</i> Vivi Guedes (Paolla Oliveira). Com um visual que tem o poder de influenciar toda uma geração, o figurino da personagem também faz jus à beleza de sua intérprete.<br/><i>“Vamos manter um perfil da mulher mais voluptuosa. Tem um quê de Kardashian, por ela assumir as curvas e o próprio corpo. Mas não estamos usando essa inspiração para as roupas dela. Vivi usa pouco acessório. É monocromática, apresenta uma silhueta mais seca, mas tem muito brilho, strass e roupas de látex”</i>, explicou Sabrina.<br/>Ainda no núcleo das influenciadoras, Josiane (Agatha Moreira), antes de engrenar como <i>influencer</i>, não tem um estilo próprio. Só depois de contratar Kim (Monica Iozzi) é que vai ter seu visual completamente repaginado.</p>, <p>Já o núcleo dos moradores de rua da trama apresenta um conceito visual carregado de irreverência. O Eusébio (Marco Nanini) veste calças e camisas de pijamas no dia a dia. A Cornélia (Betty Faria) é mais assanhada, tem um pouco de crochê, estampa, tricô, <i>legging</i>, umas bijuterias de plástico, bem popular.<br/><i>“O figurino deles é bem engraçado. Essa família é trabalhada na sobreposição, na mistura de cores, estampas, texturas e camadas. (…) Essa galera morava em um lugar de ocupação, então eles vão ganhando umas coisas, achando no lixo, e vão catando e usando”</i>, explicou Sabrina.</p>, <p>A equipe de caracterização optou por utilizar uma técnica de rejuvenescimento para os atores que atuam no prólogo e na primeira fase.<br/><i>“É o lifting, que consiste em esticar a pele, exatamente nos pontos onde o cirurgião plástico mexe. São adesivos que você cola na pele da pessoa e puxa. Segura na nuca, no meio do cabelo. Para o personagem que está nas três etapas, faço um trabalho de rejuvenescimento geral para o prólogo, depois, para a primeira fase, é só lateral, para já aparecer um pouquinho de peso de idade. E na segunda etapa, supostamente, vai ter uma mudança de acordo com a história desse personagem, alguns melhoram de vida”</i>, revelou o caracterizador Martín Macías Trujillo.</p>, <p>Uma grande transformação no visual foi pensada para a Maria da Paz. Juliana Paes começa a novela com um aplique e tom de cabelo mais escuro, que muda quando ela enriquece.<br/><i>“O tom louro marca uma virada financeira na vida dela. Na primeira fase, é mulher batalhadora. Em 2019, já é uma Maria da Paz com dinheiro, mas sem um gosto refinado. Ela tem joias, usa o que acha que é top, com a maquiagem que ela acha que é boa, mistura tudo, muita cor, muito brilho, muito ouro”</i>, explicou a caracterizadora Sumaia Assis.</p>, <p>Vivi Guedes se tornou a primeira personagem a virar garota-propaganda de uma marca fora da ficção. No capítulo do dia 08/08/2019, houve uma integração entre o conteúdo da trama com o intervalo comercial, com direito a uma vinheta especial de transição. Até foi criada uma história entre a personagem e sua intérprete, Paolla Oliveira, que era o rosto da montadora Fiat. Pela primeira vez, um comercial foi gravado nos Estúdios Globo, por sua própria equipe, por se tratar de uma campanha misturada com a dramaturgia. Paolla não poderia sair da personagem construída por Walcyr Carrasco enquanto estivesse anunciando o carro. A ação foi um trabalho da emissora, da Fiat e da agência Leo Burnett, detentora da conta publicitária da montadora. A personagem já havia anunciado nos <i>stories</i> de seu perfil no <i>Instagram</i> que estrelaria a campanha. O sucesso da influenciadora da ficção atraiu outras marcas: a Avon já inseriu postagens publicitárias no <i>Instagram</i> de Vivi Guedes.</p>, <p>Em entrevista ao programa <b>Altas Horas</b>, em agosto de 2019, Walcyr Carrasco confirmou que não planejou a novela, que ela foi criada em duas semanas.</p>, <p></p>, <p><b>Trilha Sonora volume 1</b><br/><img alt=\"\" class=\"aligncenter size-medium wp-image-47093\" height=\"300\" sizes=\"(max-width: 300px) 100vw, 300px\" src=\"http://teledramaturgia.com.br/wp-content/uploads/2019/04/adonadopecadot1-300x300.jpg\" srcset=\"http://teledramaturgia.com.br/wp-content/uploads/2019/04/adonadopecadot1-300x300.jpg 300w, http://teledramaturgia.com.br/wp-content/uploads/2019/04/adonadopecadot1-150x150.jpg 150w, http://teledramaturgia.com.br/wp-content/uploads/2019/04/adonadopecadot1-66x66.jpg 66w, http://teledramaturgia.com.br/wp-content/uploads/2019/04/adonadopecadot1.jpg 310w\" width=\"300\"/><br/>01. TÁ ESCRITO – Xande de Pilares <i>(tema de abertura)</i><br/>\\n02. CHEIA DE MANIAS – Raça Negra <i>(tema de Maria da Paz)</i><br/>\\n03. BEBI LIGUEI – Marília Mendonça <i>(tema de Vivi e Chiclete)</i><br/>\\n04. EVIDÊNCIAS – Chitãozinho e Xororó <i>(tema de Maria da Paz e Amadeu)</i><br/>\\n05. YIRI YIRI BOUM – Dois Africanos <i>(tema da família de Eusébio)</i><br/>\\n06. LULLABY LOVE – Roo Panes<br/>\\n07. DAYDREAM IN BLUE – I Monster <i>(tema de Régis)</i><br/>\\n08. ECOUTE-MOI CAMARADE – Rachid Taha <i>(tema da família de Eusébio)</i><br/>\\n09. LEARN TO LIVE – Alice Merton <i>(tema de locação: academia)</i><br/>\\n10. NOBODY MAKES MONEY – Fantastic Negrito<br/>\\n11. JOLENE – Dolly Parton <i>(tema de Maria da Paz)</i><br/>\\n12. LOYAL TO ME – Nina Nesbitt <i>(tema de locação: estúdio fotográfico)</i><br/>\\n13. TAKI TAKI – Dj Snake featuring Selena Gomez, Ozuna and Cardi B</p>, <p><i>ainda</i><br/>BAD GUY – Billie Eilish<br/>BEIJO GELADINHO – Netinho de Paula<br/>CALIFORNIA DREAMING – Bobby Womack<br/>EU SEI – Cai Sahra<br/>EVIDÊNCIAS – Yasmin Santos<br/>LAS VEGAS – Eduardo Queiroz<br/>ME CHAME DE MY LOVE – Thiago Brava e Gkay<br/>MY SILVER LINING – First Aid Kit<br/>NOTHING BREAKS LIKE A HEART – Miley Cyrus<br/>O´ DEATH – Jen Titus<br/>QUEM TEM O DOM – Jerry Smith e Wesley Safadão<br/>REUNION – Bobbie Gentry<br/>SNAKE CHARMER – Gustavo Bertoni<br/>SÓ O AMOR – Preta Gil e Glória Groove<br/>SÓ VOCÊ E EU – Vanessa da Mata<br/>VÉU – Eduardo Queiroz</p>, <p><b>Tema de Abertura:</b> TÁ ESCRITO – Xande de Pilares</p>, <p>Quem cultiva a semente do amor<br/>Segue em frente e não se apavora<br/>Se na vida encontrar dissabor<br/>Vai saber esperar a sua hora</p>, <p>Às vezes a felicidade demora a chegar<br/>Aí é que a gente não pode deixar de sonhar<br/>Guerreiro não foge da luta, não pode correr<br/>Ninguém vai poder atrasar quem nasceu pra vencer</p>, <p>É dia de sol, mas o tempo pode fechar<br/>A chuva só vem quando tem que molhar<br/>Na vida é preciso aprender<br/>Se colhe o bem que plantar<br/>É Deus quem aponta a estrela que tem que brilhar</p>, <p>Erga essa cabeça, mete o pé e vai na fé<br/>Manda essa tristeza embora<br/>Basta acreditar que um novo dia vai raiar<br/>Sua hora vai chegar!…</p>, <p>Em entrevista ao programa <b>Altas Horas</b>, em agosto de 2019, Walcyr Carrasco confirmou que não planejou a novela, que ela foi criada em duas semanas.</p>, <p></p>, <p>De uns 4 ou 5 anos pra cá, as trilhas sonoras de novelas estão muito aquém do que já foram um dia. Tem coisa boa sim, mas tem também muita porcaria, além de reaproveitamento e/ou reciclagem de outras.</p>, <p>Adorei Gretchen!! Deveria ficar até o final da novela!!!</p>, <p>Gretchen como Gina está hilária! Super sexy e linda! Estou amando!</p>, <p class=\"form-submit\"><input class=\"fusion-button fusion-button-default\" id=\"comment-submit\" name=\"submit\" type=\"submit\" value=\"Post Comment\"/> <input id=\"comment_post_ID\" name=\"comment_post_ID\" type=\"hidden\" value=\"43473\"/>\\n<input id=\"comment_parent\" name=\"comment_parent\" type=\"hidden\" value=\"0\"/>\\n</p>, <p style=\"display: none;\"><input id=\"akismet_comment_nonce\" name=\"akismet_comment_nonce\" type=\"hidden\" value=\"c8a9aa565f\"/></p>, <p style=\"display: none;\"><input id=\"ak_js\" name=\"ak_js\" type=\"hidden\" value=\"14\"/></p>, <p><a href=\"http://teledramaturgia.com.br/sobre-nilson-xavier/\" target=\"\"><img height=\"100\" src=\"http://www.teledramaturgia.com.br/wp-content/uploads/2019/04/vinho_redondo.jpg\" width=\"100\"/></a></p>]'"
      ]
     },
     "execution_count": 43,
     "metadata": {},
     "output_type": "execute_result"
    }
   ],
   "source": [
    "#example of the website text\n",
    "text"
   ]
  },
  {
   "cell_type": "code",
   "execution_count": 190,
   "metadata": {},
   "outputs": [
    {
     "data": {
      "text/plain": [
       "'[<title>Teledramaturgia -   A Dona do Pedaço</title>]'"
      ]
     },
     "execution_count": 190,
     "metadata": {},
     "output_type": "execute_result"
    }
   ],
   "source": [
    "# example of soyp opera title before correction\n",
    "titulo = str(soup.find_all('title'))\n",
    "titulo"
   ]
  },
  {
   "cell_type": "code",
   "execution_count": 202,
   "metadata": {},
   "outputs": [
    {
     "data": {
      "text/plain": [
       "['A Dona do Pedaço']"
      ]
     },
     "execution_count": 202,
     "metadata": {},
     "output_type": "execute_result"
    }
   ],
   "source": [
    "# example of soyp opera title after correction\n",
    "novela = re.findall('.+?[ -]([A-Z].+)</title>', titulo)\n",
    "novela"
   ]
  },
  {
   "cell_type": "code",
   "execution_count": 177,
   "metadata": {},
   "outputs": [
    {
     "data": {
      "text/plain": [
       "['Globo – 21h']"
      ]
     },
     "execution_count": 177,
     "metadata": {},
     "output_type": "execute_result"
    }
   ],
   "source": [
    "# example of schedule\n",
    "horario = re.findall(', <p>.+([A-Z].+?[0-9]{2}h)<br/>', text)\n",
    "horario"
   ]
  },
  {
   "cell_type": "code",
   "execution_count": 112,
   "metadata": {},
   "outputs": [
    {
     "name": "stdout",
     "output_type": "stream",
     "text": [
      "['estreia: 20 de maio de 2019']\n"
     ]
    }
   ],
   "source": [
    "# example of start date\n",
    "data_inicio = re.findall('(estreia:.+)</p>', text)\n",
    "print(data_inicio)"
   ]
  },
  {
   "cell_type": "code",
   "execution_count": 185,
   "metadata": {},
   "outputs": [
    {
     "data": {
      "text/plain": [
       "['Walcyr Carrasco']"
      ]
     },
     "execution_count": 185,
     "metadata": {},
     "output_type": "execute_result"
    }
   ],
   "source": [
    "# example of director\n",
    "autor = re.findall('[novela de].+[\">]([A-Z].+)</a><br/>', text)\n",
    "autor"
   ]
  },
  {
   "cell_type": "markdown",
   "metadata": {},
   "source": [
    "## Running into all soup opera's name"
   ]
  },
  {
   "cell_type": "code",
   "execution_count": 1,
   "metadata": {
    "scrolled": true
   },
   "outputs": [],
   "source": [
    "#creating the lists to store the data for each soap opera \n",
    "titulo = []\n",
    "horario = []\n",
    "data_inicio = []\n",
    "data_fim = []\n",
    "autor = []\n",
    "atores = []\n",
    "\n",
    "\n",
    "try:\n",
    "\n",
    "    for i in novelas:\n",
    "        #Request to enter the site \n",
    "        req = requests.get('http://teledramaturgia.com.br/{}/'.format(i))\n",
    "        #testing whether the request was successful\n",
    "        if req.status_code == 200:\n",
    "            print('Requisição bem sucedida!')\n",
    "            content = req.content\n",
    "\n",
    "        soup = BeautifulSoup(content, 'html.parser')\n",
    "\n",
    "        #Title of the soup opera\n",
    "        novela = str(soup.find_all('title'))\n",
    "        novela_1 = re.findall('[-](.+?)</title>', novela)[0].lstrip()\n",
    "        titulo.append(novela_1)\n",
    "\n",
    "        #TV channel and soup opera schedule\n",
    "        texto = soup.find_all('div', class_='content-container')\n",
    "        texto_2 = str(texto)\n",
    "\n",
    "        texto_3 = str(soup.find_all('p'))\n",
    "\n",
    "        #texto = str(soup.find_all('p'))\n",
    "        horario_ = re.findall('>.+([A-Z].+?[0-9]{2}h)<br/>', texto_2)\n",
    "        if len(horario_) == 0:\n",
    "            horario_ = re.findall('>.+([A-Z].+?[0-9]{2}h)<br/>', texto_3)\n",
    "            horario.append(horario_[0])\n",
    "        else:\n",
    "            horario.append(horario_[0])\n",
    "\n",
    "        #Start and end date \n",
    "        data_ = re.findall('[de ]([0-9].+?[0-9]{4})<.+', texto_2)\n",
    "        if len(data_) == 0:\n",
    "            data_ = re.findall('[de ]([0-9].+?[0-9]{4})<.+', texto_3)\n",
    "            if len(data_) == 1:\n",
    "                data_inicio.append(data_[0])\n",
    "            else:\n",
    "                data_inicio.append(data_[0] + ' a ' + data_[1])\n",
    "        else:\n",
    "            if len(data_) == 1:\n",
    "                data_inicio.append(data_[0])\n",
    "            else:\n",
    "                data_inicio.append(data_[0] + ' a ' + data_[1])\n",
    "\n",
    "        #Director\n",
    "        autor_ = re.findall('<p>novela de .*?([A-Z].+?)<', texto_3)[0]\n",
    "        autor.append(autor_)\n",
    "\n",
    "        #top5 Actors\n",
    "        atores = re.findall('([A-Z][A-Z].+)<br/>', texto_3)\n",
    "        atores_5 = atores[:5]\n",
    "        for a in atores_5:\n",
    "            nome = a.split()[:2]\n",
    "            nome = ' '.join(nome)\n",
    "            lista_a.append(nome)\n",
    "        nomes_5 = ';'.join(lista_a)\n",
    "        nomes_5.append(atores)\n",
    "\n",
    "except:\n",
    "    pass"
   ]
  },
  {
   "cell_type": "code",
   "execution_count": 816,
   "metadata": {},
   "outputs": [
    {
     "data": {
      "text/plain": [
       "['O Sétimo Guardião',\n",
       " 'O Tempo Não Para',\n",
       " 'Órfãos da Terra',\n",
       " 'Orgulho e Paixão',\n",
       " 'Páginas da Vida',\n",
       " 'Paraíso (1982)',\n",
       " 'Paraíso Tropical',\n",
       " 'Passione',\n",
       " 'Pé na Jaca',\n",
       " 'Pega Pega',\n",
       " 'Porto dos Milagres',\n",
       " 'Rock Story',\n",
       " 'Sabor da Paixão',\n",
       " 'Salve Jorge',\n",
       " 'Sangue Bom',\n",
       " 'Saramandaia (1976)',\n",
       " 'Segundo Sol',\n",
       " 'Senhora do Destino',\n",
       " 'Sete Pecados',\n",
       " 'Sete Vidas',\n",
       " 'Sinhá Moça (1986)',\n",
       " 'Sol Nascente',\n",
       " 'Tempo de Amar',\n",
       " 'Tempos Modernos',\n",
       " 'Ti-ti-ti (1985)',\n",
       " 'Totalmente Demais',\n",
       " 'Três Irmãs',\n",
       " 'Uga Uga',\n",
       " 'Um Anjo Caiu do Céu',\n",
       " 'Velho Chico',\n",
       " 'Verão 90',\n",
       " 'Verdades Secretas']"
      ]
     },
     "execution_count": 816,
     "metadata": {},
     "output_type": "execute_result"
    }
   ],
   "source": [
    "titulo_p = titulo[0:32]\n",
    "titulo_p"
   ]
  },
  {
   "cell_type": "code",
   "execution_count": 817,
   "metadata": {},
   "outputs": [
    {
     "name": "stdout",
     "output_type": "stream",
     "text": [
      "32\n"
     ]
    },
    {
     "data": {
      "text/plain": [
       "['Globo – 21h',\n",
       " 'Globo – 19h',\n",
       " 'Globo – 18h',\n",
       " 'Globo – 18h',\n",
       " 'Globo – 21h',\n",
       " 'Globo – 18h',\n",
       " 'Globo – 21h',\n",
       " 'Globo – 21h',\n",
       " 'Globo – 19h',\n",
       " 'Globo – 19h',\n",
       " 'Globo – 20h',\n",
       " 'Globo / 19h',\n",
       " 'Globo – 18h',\n",
       " 'Globo – 21h',\n",
       " 'Globo – 19h',\n",
       " 'Globo – 22h',\n",
       " 'Globo – 21h',\n",
       " 'Globo – 21h',\n",
       " 'Globo – 19h',\n",
       " 'Globo – 18h',\n",
       " 'Globo – 18h',\n",
       " 'Globo – 18h',\n",
       " 'Globo – 18h',\n",
       " 'Globo – 19h',\n",
       " 'Globo – 19h',\n",
       " 'Globo – 19h',\n",
       " 'Globo – 19h',\n",
       " 'Globo – 19h',\n",
       " 'Globo – 19h',\n",
       " 'Globo – 21h',\n",
       " 'Globo – 19h',\n",
       " 'Globo – 23h']"
      ]
     },
     "execution_count": 817,
     "metadata": {},
     "output_type": "execute_result"
    }
   ],
   "source": [
    "print(len(horario))\n",
    "horario"
   ]
  },
  {
   "cell_type": "code",
   "execution_count": 818,
   "metadata": {},
   "outputs": [
    {
     "name": "stdout",
     "output_type": "stream",
     "text": [
      "32\n"
     ]
    },
    {
     "data": {
      "text/plain": [
       "['12 de novembro de 2018 a 18 de maio de 2019',\n",
       " '31 de julho de 2018 a 28 de janeiro de 2019',\n",
       " '2 de abril a 28 de setembro de 2019',\n",
       " '20 de março a 24 de setembro de 2018',\n",
       " '10 de julho de 2006 a 3 de março de 2007',\n",
       " '23 de agosto de 1982 a 26 de março de 1983',\n",
       " '5 de março a 29 de setembro de 2007',\n",
       " '17 de maio de 2010 a 15 de janeiro de 2011',\n",
       " '20 de novembro de 2006 a 16 de junho de 2007',\n",
       " '6 de junho de 2017 a 8 de janeiro de 2018',\n",
       " '5 de fevereiro a 29 de setembro de 2001',\n",
       " '9 de novembro de 2016 a 5 de junho de 2017',\n",
       " '30 de setembro de 2002 a 21 de março de 2003',\n",
       " '22 de outubro de 2012 a 18 de maio de 2013',\n",
       " '29 de abril a 2 de novembro de 2013',\n",
       " '3 de maio a 31 de dezembro de 1976',\n",
       " '14 de maio a 10 de novembro de 2018',\n",
       " '28 de junho de 2004 a 12 de março de 2005',\n",
       " '18 de junho de 2007 a 15 de fevereiro de 2008',\n",
       " '9 de março a 11 de julho de 2015',\n",
       " '28 de abril a 15 de novembro de 1986',\n",
       " '29 de agosto de 2016 a 21 de março de 2017',\n",
       " '26 de setembro de 2017 a 19 de março de 2018',\n",
       " '11 de janeiro a 17 de julho de 2010',\n",
       " '5 de agosto de 1985 a 8 de março de 1986',\n",
       " '9 de novembro de 2015 a 30 de maio de 2016',\n",
       " '15 de setembro de 2008 a 11 de abril de 2009',\n",
       " '8 de maio de 2000 a 20 de janeiro de 2001',\n",
       " '22 de janeiro a 25 de agosto de 2001',\n",
       " '14 de março a 1º de outubro de 2016',\n",
       " '29 de janeiro a 27 de julho de 2019',\n",
       " '8 de junho a 25 de setembro de 2015']"
      ]
     },
     "execution_count": 818,
     "metadata": {},
     "output_type": "execute_result"
    }
   ],
   "source": [
    "print(len(data_inicio))\n",
    "data_inicio"
   ]
  },
  {
   "cell_type": "code",
   "execution_count": 819,
   "metadata": {},
   "outputs": [
    {
     "name": "stdout",
     "output_type": "stream",
     "text": [
      "32\n"
     ]
    },
    {
     "data": {
      "text/plain": [
       "['Aguinaldo Silva',\n",
       " 'Mário Teixeira',\n",
       " 'Thelma Guedes',\n",
       " 'Marcos Bernstein',\n",
       " 'Manoel Carlos',\n",
       " 'Benedito Ruy Barbosa',\n",
       " 'Gilberto Braga',\n",
       " 'Silvio de Abreu',\n",
       " 'Carlos Lombardi',\n",
       " 'Cláudia Souto',\n",
       " 'Aguinaldo Silva',\n",
       " 'Maria Helena Nascimento',\n",
       " 'Ana Maria Moretzsohn',\n",
       " 'Glória Perez',\n",
       " 'Maria Adelaide Amaral',\n",
       " 'Dias Gomes',\n",
       " 'João Emanuel Carneiro',\n",
       " 'Aguinaldo Silva',\n",
       " 'Walcyr Carrasco',\n",
       " 'Lícia Manzo',\n",
       " 'Benedito Ruy Barbosa',\n",
       " 'Walther Negrão',\n",
       " 'Alcides Nogueira',\n",
       " 'Bosco Brasil',\n",
       " 'Cassiano Gabus Mendes',\n",
       " 'Rosane Svartman e Paulo Halm',\n",
       " 'Antônio Calmon',\n",
       " 'Carlos Lombardi',\n",
       " 'Antônio Calmon',\n",
       " 'Benedito Ruy Barbosa',\n",
       " 'Izabel de Oliveira',\n",
       " 'Walcyr Carrasco']"
      ]
     },
     "execution_count": 819,
     "metadata": {},
     "output_type": "execute_result"
    }
   ],
   "source": [
    "print(len(autor))\n",
    "autor"
   ]
  },
  {
   "cell_type": "code",
   "execution_count": 820,
   "metadata": {},
   "outputs": [
    {
     "data": {
      "text/html": [
       "<div>\n",
       "<style scoped>\n",
       "    .dataframe tbody tr th:only-of-type {\n",
       "        vertical-align: middle;\n",
       "    }\n",
       "\n",
       "    .dataframe tbody tr th {\n",
       "        vertical-align: top;\n",
       "    }\n",
       "\n",
       "    .dataframe thead th {\n",
       "        text-align: right;\n",
       "    }\n",
       "</style>\n",
       "<table border=\"1\" class=\"dataframe\">\n",
       "  <thead>\n",
       "    <tr style=\"text-align: right;\">\n",
       "      <th></th>\n",
       "      <th>Novela</th>\n",
       "      <th>Horário</th>\n",
       "      <th>Data</th>\n",
       "      <th>Autor</th>\n",
       "    </tr>\n",
       "  </thead>\n",
       "  <tbody>\n",
       "    <tr>\n",
       "      <td>0</td>\n",
       "      <td>O Sétimo Guardião</td>\n",
       "      <td>Globo – 21h</td>\n",
       "      <td>12 de novembro de 2018 a 18 de maio de 2019</td>\n",
       "      <td>Aguinaldo Silva</td>\n",
       "    </tr>\n",
       "    <tr>\n",
       "      <td>1</td>\n",
       "      <td>O Tempo Não Para</td>\n",
       "      <td>Globo – 19h</td>\n",
       "      <td>31 de julho de 2018 a 28 de janeiro de 2019</td>\n",
       "      <td>Mário Teixeira</td>\n",
       "    </tr>\n",
       "    <tr>\n",
       "      <td>2</td>\n",
       "      <td>Órfãos da Terra</td>\n",
       "      <td>Globo – 18h</td>\n",
       "      <td>2 de abril a 28 de setembro de 2019</td>\n",
       "      <td>Thelma Guedes</td>\n",
       "    </tr>\n",
       "    <tr>\n",
       "      <td>3</td>\n",
       "      <td>Orgulho e Paixão</td>\n",
       "      <td>Globo – 18h</td>\n",
       "      <td>20 de março a 24 de setembro de 2018</td>\n",
       "      <td>Marcos Bernstein</td>\n",
       "    </tr>\n",
       "    <tr>\n",
       "      <td>4</td>\n",
       "      <td>Páginas da Vida</td>\n",
       "      <td>Globo – 21h</td>\n",
       "      <td>10 de julho de 2006 a 3 de março de 2007</td>\n",
       "      <td>Manoel Carlos</td>\n",
       "    </tr>\n",
       "    <tr>\n",
       "      <td>5</td>\n",
       "      <td>Paraíso (1982)</td>\n",
       "      <td>Globo – 18h</td>\n",
       "      <td>23 de agosto de 1982 a 26 de março de 1983</td>\n",
       "      <td>Benedito Ruy Barbosa</td>\n",
       "    </tr>\n",
       "    <tr>\n",
       "      <td>6</td>\n",
       "      <td>Paraíso Tropical</td>\n",
       "      <td>Globo – 21h</td>\n",
       "      <td>5 de março a 29 de setembro de 2007</td>\n",
       "      <td>Gilberto Braga</td>\n",
       "    </tr>\n",
       "    <tr>\n",
       "      <td>7</td>\n",
       "      <td>Passione</td>\n",
       "      <td>Globo – 21h</td>\n",
       "      <td>17 de maio de 2010 a 15 de janeiro de 2011</td>\n",
       "      <td>Silvio de Abreu</td>\n",
       "    </tr>\n",
       "    <tr>\n",
       "      <td>8</td>\n",
       "      <td>Pé na Jaca</td>\n",
       "      <td>Globo – 19h</td>\n",
       "      <td>20 de novembro de 2006 a 16 de junho de 2007</td>\n",
       "      <td>Carlos Lombardi</td>\n",
       "    </tr>\n",
       "    <tr>\n",
       "      <td>9</td>\n",
       "      <td>Pega Pega</td>\n",
       "      <td>Globo – 19h</td>\n",
       "      <td>6 de junho de 2017 a 8 de janeiro de 2018</td>\n",
       "      <td>Cláudia Souto</td>\n",
       "    </tr>\n",
       "    <tr>\n",
       "      <td>10</td>\n",
       "      <td>Porto dos Milagres</td>\n",
       "      <td>Globo – 20h</td>\n",
       "      <td>5 de fevereiro a 29 de setembro de 2001</td>\n",
       "      <td>Aguinaldo Silva</td>\n",
       "    </tr>\n",
       "    <tr>\n",
       "      <td>11</td>\n",
       "      <td>Rock Story</td>\n",
       "      <td>Globo / 19h</td>\n",
       "      <td>9 de novembro de 2016 a 5 de junho de 2017</td>\n",
       "      <td>Maria Helena Nascimento</td>\n",
       "    </tr>\n",
       "    <tr>\n",
       "      <td>12</td>\n",
       "      <td>Sabor da Paixão</td>\n",
       "      <td>Globo – 18h</td>\n",
       "      <td>30 de setembro de 2002 a 21 de março de 2003</td>\n",
       "      <td>Ana Maria Moretzsohn</td>\n",
       "    </tr>\n",
       "    <tr>\n",
       "      <td>13</td>\n",
       "      <td>Salve Jorge</td>\n",
       "      <td>Globo – 21h</td>\n",
       "      <td>22 de outubro de 2012 a 18 de maio de 2013</td>\n",
       "      <td>Glória Perez</td>\n",
       "    </tr>\n",
       "    <tr>\n",
       "      <td>14</td>\n",
       "      <td>Sangue Bom</td>\n",
       "      <td>Globo – 19h</td>\n",
       "      <td>29 de abril a 2 de novembro de 2013</td>\n",
       "      <td>Maria Adelaide Amaral</td>\n",
       "    </tr>\n",
       "    <tr>\n",
       "      <td>15</td>\n",
       "      <td>Saramandaia (1976)</td>\n",
       "      <td>Globo – 22h</td>\n",
       "      <td>3 de maio a 31 de dezembro de 1976</td>\n",
       "      <td>Dias Gomes</td>\n",
       "    </tr>\n",
       "    <tr>\n",
       "      <td>16</td>\n",
       "      <td>Segundo Sol</td>\n",
       "      <td>Globo – 21h</td>\n",
       "      <td>14 de maio a 10 de novembro de 2018</td>\n",
       "      <td>João Emanuel Carneiro</td>\n",
       "    </tr>\n",
       "    <tr>\n",
       "      <td>17</td>\n",
       "      <td>Senhora do Destino</td>\n",
       "      <td>Globo – 21h</td>\n",
       "      <td>28 de junho de 2004 a 12 de março de 2005</td>\n",
       "      <td>Aguinaldo Silva</td>\n",
       "    </tr>\n",
       "    <tr>\n",
       "      <td>18</td>\n",
       "      <td>Sete Pecados</td>\n",
       "      <td>Globo – 19h</td>\n",
       "      <td>18 de junho de 2007 a 15 de fevereiro de 2008</td>\n",
       "      <td>Walcyr Carrasco</td>\n",
       "    </tr>\n",
       "    <tr>\n",
       "      <td>19</td>\n",
       "      <td>Sete Vidas</td>\n",
       "      <td>Globo – 18h</td>\n",
       "      <td>9 de março a 11 de julho de 2015</td>\n",
       "      <td>Lícia Manzo</td>\n",
       "    </tr>\n",
       "    <tr>\n",
       "      <td>20</td>\n",
       "      <td>Sinhá Moça (1986)</td>\n",
       "      <td>Globo – 18h</td>\n",
       "      <td>28 de abril a 15 de novembro de 1986</td>\n",
       "      <td>Benedito Ruy Barbosa</td>\n",
       "    </tr>\n",
       "    <tr>\n",
       "      <td>21</td>\n",
       "      <td>Sol Nascente</td>\n",
       "      <td>Globo – 18h</td>\n",
       "      <td>29 de agosto de 2016 a 21 de março de 2017</td>\n",
       "      <td>Walther Negrão</td>\n",
       "    </tr>\n",
       "    <tr>\n",
       "      <td>22</td>\n",
       "      <td>Tempo de Amar</td>\n",
       "      <td>Globo – 18h</td>\n",
       "      <td>26 de setembro de 2017 a 19 de março de 2018</td>\n",
       "      <td>Alcides Nogueira</td>\n",
       "    </tr>\n",
       "    <tr>\n",
       "      <td>23</td>\n",
       "      <td>Tempos Modernos</td>\n",
       "      <td>Globo – 19h</td>\n",
       "      <td>11 de janeiro a 17 de julho de 2010</td>\n",
       "      <td>Bosco Brasil</td>\n",
       "    </tr>\n",
       "    <tr>\n",
       "      <td>24</td>\n",
       "      <td>Ti-ti-ti (1985)</td>\n",
       "      <td>Globo – 19h</td>\n",
       "      <td>5 de agosto de 1985 a 8 de março de 1986</td>\n",
       "      <td>Cassiano Gabus Mendes</td>\n",
       "    </tr>\n",
       "    <tr>\n",
       "      <td>25</td>\n",
       "      <td>Totalmente Demais</td>\n",
       "      <td>Globo – 19h</td>\n",
       "      <td>9 de novembro de 2015 a 30 de maio de 2016</td>\n",
       "      <td>Rosane Svartman e Paulo Halm</td>\n",
       "    </tr>\n",
       "    <tr>\n",
       "      <td>26</td>\n",
       "      <td>Três Irmãs</td>\n",
       "      <td>Globo – 19h</td>\n",
       "      <td>15 de setembro de 2008 a 11 de abril de 2009</td>\n",
       "      <td>Antônio Calmon</td>\n",
       "    </tr>\n",
       "    <tr>\n",
       "      <td>27</td>\n",
       "      <td>Uga Uga</td>\n",
       "      <td>Globo – 19h</td>\n",
       "      <td>8 de maio de 2000 a 20 de janeiro de 2001</td>\n",
       "      <td>Carlos Lombardi</td>\n",
       "    </tr>\n",
       "    <tr>\n",
       "      <td>28</td>\n",
       "      <td>Um Anjo Caiu do Céu</td>\n",
       "      <td>Globo – 19h</td>\n",
       "      <td>22 de janeiro a 25 de agosto de 2001</td>\n",
       "      <td>Antônio Calmon</td>\n",
       "    </tr>\n",
       "    <tr>\n",
       "      <td>29</td>\n",
       "      <td>Velho Chico</td>\n",
       "      <td>Globo – 21h</td>\n",
       "      <td>14 de março a 1º de outubro de 2016</td>\n",
       "      <td>Benedito Ruy Barbosa</td>\n",
       "    </tr>\n",
       "    <tr>\n",
       "      <td>30</td>\n",
       "      <td>Verão 90</td>\n",
       "      <td>Globo – 19h</td>\n",
       "      <td>29 de janeiro a 27 de julho de 2019</td>\n",
       "      <td>Izabel de Oliveira</td>\n",
       "    </tr>\n",
       "    <tr>\n",
       "      <td>31</td>\n",
       "      <td>Verdades Secretas</td>\n",
       "      <td>Globo – 23h</td>\n",
       "      <td>8 de junho a 25 de setembro de 2015</td>\n",
       "      <td>Walcyr Carrasco</td>\n",
       "    </tr>\n",
       "  </tbody>\n",
       "</table>\n",
       "</div>"
      ],
      "text/plain": [
       "                 Novela      Horário  \\\n",
       "0     O Sétimo Guardião  Globo – 21h   \n",
       "1      O Tempo Não Para  Globo – 19h   \n",
       "2       Órfãos da Terra  Globo – 18h   \n",
       "3      Orgulho e Paixão  Globo – 18h   \n",
       "4       Páginas da Vida  Globo – 21h   \n",
       "5        Paraíso (1982)  Globo – 18h   \n",
       "6      Paraíso Tropical  Globo – 21h   \n",
       "7              Passione  Globo – 21h   \n",
       "8            Pé na Jaca  Globo – 19h   \n",
       "9             Pega Pega  Globo – 19h   \n",
       "10   Porto dos Milagres  Globo – 20h   \n",
       "11           Rock Story  Globo / 19h   \n",
       "12      Sabor da Paixão  Globo – 18h   \n",
       "13          Salve Jorge  Globo – 21h   \n",
       "14           Sangue Bom  Globo – 19h   \n",
       "15   Saramandaia (1976)  Globo – 22h   \n",
       "16          Segundo Sol  Globo – 21h   \n",
       "17   Senhora do Destino  Globo – 21h   \n",
       "18         Sete Pecados  Globo – 19h   \n",
       "19           Sete Vidas  Globo – 18h   \n",
       "20    Sinhá Moça (1986)  Globo – 18h   \n",
       "21         Sol Nascente  Globo – 18h   \n",
       "22        Tempo de Amar  Globo – 18h   \n",
       "23      Tempos Modernos  Globo – 19h   \n",
       "24      Ti-ti-ti (1985)  Globo – 19h   \n",
       "25    Totalmente Demais  Globo – 19h   \n",
       "26           Três Irmãs  Globo – 19h   \n",
       "27              Uga Uga  Globo – 19h   \n",
       "28  Um Anjo Caiu do Céu  Globo – 19h   \n",
       "29          Velho Chico  Globo – 21h   \n",
       "30             Verão 90  Globo – 19h   \n",
       "31    Verdades Secretas  Globo – 23h   \n",
       "\n",
       "                                             Data  \\\n",
       "0     12 de novembro de 2018 a 18 de maio de 2019   \n",
       "1     31 de julho de 2018 a 28 de janeiro de 2019   \n",
       "2             2 de abril a 28 de setembro de 2019   \n",
       "3            20 de março a 24 de setembro de 2018   \n",
       "4        10 de julho de 2006 a 3 de março de 2007   \n",
       "5      23 de agosto de 1982 a 26 de março de 1983   \n",
       "6             5 de março a 29 de setembro de 2007   \n",
       "7      17 de maio de 2010 a 15 de janeiro de 2011   \n",
       "8    20 de novembro de 2006 a 16 de junho de 2007   \n",
       "9       6 de junho de 2017 a 8 de janeiro de 2018   \n",
       "10        5 de fevereiro a 29 de setembro de 2001   \n",
       "11     9 de novembro de 2016 a 5 de junho de 2017   \n",
       "12   30 de setembro de 2002 a 21 de março de 2003   \n",
       "13     22 de outubro de 2012 a 18 de maio de 2013   \n",
       "14            29 de abril a 2 de novembro de 2013   \n",
       "15             3 de maio a 31 de dezembro de 1976   \n",
       "16            14 de maio a 10 de novembro de 2018   \n",
       "17      28 de junho de 2004 a 12 de março de 2005   \n",
       "18  18 de junho de 2007 a 15 de fevereiro de 2008   \n",
       "19               9 de março a 11 de julho de 2015   \n",
       "20           28 de abril a 15 de novembro de 1986   \n",
       "21     29 de agosto de 2016 a 21 de março de 2017   \n",
       "22   26 de setembro de 2017 a 19 de março de 2018   \n",
       "23            11 de janeiro a 17 de julho de 2010   \n",
       "24       5 de agosto de 1985 a 8 de março de 1986   \n",
       "25     9 de novembro de 2015 a 30 de maio de 2016   \n",
       "26   15 de setembro de 2008 a 11 de abril de 2009   \n",
       "27      8 de maio de 2000 a 20 de janeiro de 2001   \n",
       "28           22 de janeiro a 25 de agosto de 2001   \n",
       "29            14 de março a 1º de outubro de 2016   \n",
       "30            29 de janeiro a 27 de julho de 2019   \n",
       "31            8 de junho a 25 de setembro de 2015   \n",
       "\n",
       "                           Autor  \n",
       "0                Aguinaldo Silva  \n",
       "1                 Mário Teixeira  \n",
       "2                  Thelma Guedes  \n",
       "3               Marcos Bernstein  \n",
       "4                  Manoel Carlos  \n",
       "5           Benedito Ruy Barbosa  \n",
       "6                 Gilberto Braga  \n",
       "7                Silvio de Abreu  \n",
       "8                Carlos Lombardi  \n",
       "9                  Cláudia Souto  \n",
       "10               Aguinaldo Silva  \n",
       "11       Maria Helena Nascimento  \n",
       "12          Ana Maria Moretzsohn  \n",
       "13                  Glória Perez  \n",
       "14         Maria Adelaide Amaral  \n",
       "15                    Dias Gomes  \n",
       "16         João Emanuel Carneiro  \n",
       "17               Aguinaldo Silva  \n",
       "18               Walcyr Carrasco  \n",
       "19                   Lícia Manzo  \n",
       "20          Benedito Ruy Barbosa  \n",
       "21                Walther Negrão  \n",
       "22              Alcides Nogueira  \n",
       "23                  Bosco Brasil  \n",
       "24         Cassiano Gabus Mendes  \n",
       "25  Rosane Svartman e Paulo Halm  \n",
       "26                Antônio Calmon  \n",
       "27               Carlos Lombardi  \n",
       "28                Antônio Calmon  \n",
       "29          Benedito Ruy Barbosa  \n",
       "30            Izabel de Oliveira  \n",
       "31               Walcyr Carrasco  "
      ]
     },
     "execution_count": 820,
     "metadata": {},
     "output_type": "execute_result"
    }
   ],
   "source": [
    "#creating the dataset\n",
    "d = {'Novela': titulo_p, 'Horário': horario, 'Data': data_inicio, 'Autor': autor}\n",
    "df_nov2 = pd.DataFrame(data=d)\n",
    "df_nov2"
   ]
  },
  {
   "cell_type": "code",
   "execution_count": null,
   "metadata": {},
   "outputs": [],
   "source": [
    "df_nov2.to_csv('novelas.csv', encoding='utf-8', sep=';')"
   ]
  }
 ],
 "metadata": {
  "kernelspec": {
   "display_name": "Python 3",
   "language": "python",
   "name": "python3"
  },
  "language_info": {
   "codemirror_mode": {
    "name": "ipython",
    "version": 3
   },
   "file_extension": ".py",
   "mimetype": "text/x-python",
   "name": "python",
   "nbconvert_exporter": "python",
   "pygments_lexer": "ipython3",
   "version": "3.8.5"
  }
 },
 "nbformat": 4,
 "nbformat_minor": 2
}
